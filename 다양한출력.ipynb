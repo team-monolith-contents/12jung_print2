{
 "cells": [
  {
   "cell_type": "markdown",
   "id": "b8dd6c03-eb90-4143-b2af-4aac8382ba9d",
   "metadata": {
    "deletable": false,
    "editable": false
   },
   "source": [
    "## **변수를 출력하는 다양한 방법**"
   ]
  },
  {
   "cell_type": "markdown",
   "id": "293092ad-edee-4469-afd0-e27b886959b7",
   "metadata": {
    "deletable": false,
    "editable": false
   },
   "source": [
    "#### **예제 1 : 변수 포맷 이용**\n",
    "\n",
    "- 변수 포멧을 사용하여 문자열에 변수 값을 삽입한다.\n",
    "- `%s` : 문자열\n",
    "- `%c` : 문자\n",
    "- `%d` : 정수\n",
    "- `%f` : 실수"
   ]
  },
  {
   "cell_type": "code",
   "execution_count": null,
   "id": "91d0252a-a562-4e1e-aefd-c548fb596d70",
   "metadata": {
    "codle/previous_execution": {
     "code": "# 예제 1 : 변수 포맷 이용\n\nx = 10\nprint(\"x is %d\" % x)\n\ny = \"code\"\nprint(\"y is %s\" % y)\n\nprint(\"x is %d and y is %s\" % (x, y))",
     "id": "5228920"
    }
   },
   "outputs": [],
   "source": [
    "# 예제 1 : 변수 포맷 이용\n",
    "\n",
    "x = 10\n",
    "print(\"x is %d\" % x)\n",
    "\n",
    "y = \"code\"\n",
    "print(\"y is %s\" % y)\n",
    "\n",
    "print(\"x is %d and y is %s\" % (x, y))"
   ]
  },
  {
   "cell_type": "markdown",
   "id": "0615716f-dd0f-4922-ad5b-d0087a8bde5b",
   "metadata": {
    "deletable": false,
    "editable": false
   },
   "source": [
    "#### 예제 1 해설\n",
    "> `%d`에 `x` 변수값을 정수 형태로 삽입한다.  \n",
    "> \n",
    "> `%s`에 `y` 변수 값을 문자열 형태로 삽입한다. 정수형 포맷인 `%d`로 변환하면 'code' 문자열을 정수형으로 변환할 수 없기 때문에 에러가 발생한다. "
   ]
  },
  {
   "cell_type": "markdown",
   "id": "3e30bb67-778f-4957-80e5-ba02b32a5755",
   "metadata": {
    "deletable": false,
    "editable": false
   },
   "source": [
    "#### **예제 2 : format 함수 이용**\n",
    "\n",
    "- `format` 함수를 이용하면 변수의 타입을 명시하지 않아도 된다.\n",
    "- 순서 또는 변수 이름을 통해 원하는 변수를 포멧에 맞춰 넣어줄 수 있다."
   ]
  },
  {
   "cell_type": "code",
   "execution_count": null,
   "id": "814aeb50-b237-4ad0-bb7a-40594767c47b",
   "metadata": {
    "codle/previous_execution": {
     "code": "# 예제 2 : format 함수 이용\n\nx, y = 10, \"code\"\n\nprint(\"x is {0}\" .format(x))\nprint(\"x is {new_x}\" .format(new_x=x))\n\nprint(\"\\n\")\n\nprint(\"x is {0} and y is {1}\" .format(x, y))\nprint(\"x is {new_x} and y is {new_y}\" .format(new_x=x, new_y=y))\nprint(\"y is {1} and x is {0}\" .format(x, y))\nprint(\"y is {new_y} and x is {new_x}\" .format(new_x=x, new_y=y))\n\n#print(\"x is {x}\" .format(x))  # 오류",
     "id": "5229107"
    }
   },
   "outputs": [],
   "source": [
    "# 예제 2 : format 함수 이용\n",
    "\n",
    "x, y = 10, \"code\"\n",
    "\n",
    "print(\"x is {0}\" .format(x))\n",
    "print(\"x is {new_x}\" .format(new_x=x))\n",
    "\n",
    "print(\"\\n\")\n",
    "\n",
    "print(\"x is {0} and y is {1}\" .format(x, y))\n",
    "print(\"x is {new_x} and y is {new_y}\" .format(new_x=x, new_y=y))\n",
    "print(\"y is {1} and x is {0}\" .format(x, y))\n",
    "print(\"y is {new_y} and x is {new_x}\" .format(new_x=x, new_y=y))\n",
    "\n",
    "#print(\"x is {x}\" .format(x))  # 오류"
   ]
  },
  {
   "cell_type": "markdown",
   "id": "100890cd-0908-4394-86ab-46f830a7e90c",
   "metadata": {
    "deletable": false,
    "editable": false
   },
   "source": [
    "#### 예제 2 해설\n",
    "> `format` 함수 안의 변수값이 문자열의 `{}`안에 대입된다.\n",
    ">\n",
    "> 대입되는 순서를 숫자로 정하거나 변수이름을 사용한다.\n",
    ">\n",
    "> 숫자로 순서를 정할 때 0부터 시작한다. "
   ]
  },
  {
   "cell_type": "markdown",
   "id": "d975385d-1d80-4653-8936-e48198ecbd40",
   "metadata": {
    "deletable": false,
    "editable": false
   },
   "source": [
    "#### **예제 3 : f 문자열 포멧 이용 (사용 권장)**\n",
    "\n",
    "- 문자열 앞에 `f`를 붙이면, 중괄호와 변수 이름만으로 문자열에 원하는 변수를 삽입할 수 있다."
   ]
  },
  {
   "cell_type": "code",
   "execution_count": null,
   "id": "29fb6ed4-c966-45aa-b033-07a9e050e489",
   "metadata": {},
   "outputs": [],
   "source": [
    "# 예제 3 : f 문자열 포멧 이용 (사용 권장)\n",
    "\n",
    "x, y = 10, \"code\"\n",
    "\n",
    "print(f\"x is {x}\")\n",
    "print(f\"y is {y}\")\n",
    "print(f\"x is {x} and y is {y}\")"
   ]
  },
  {
   "cell_type": "markdown",
   "id": "bceec1ad-6b5d-48bb-a8db-8b7adc6b245e",
   "metadata": {
    "deletable": false,
    "editable": false
   },
   "source": [
    "#### **예제 4 : 실수형 변수를 소수점 맞춰 출력**\n",
    "\n",
    "- `.4f` == 소수 4째 자리까지 반올림 출력"
   ]
  },
  {
   "cell_type": "code",
   "execution_count": null,
   "id": "f4986ab7-d5af-4580-bbde-7f7f7e7911a6",
   "metadata": {
    "codle/previous_execution": {
     "code": "# 예제 4-1 : 변수 포멧 (%d, %s, ...) 이용\n\nx = 3.141592653\nprint(\"%.4f\" % x)",
     "id": "5229482"
    }
   },
   "outputs": [],
   "source": [
    "# 예제 4-1 : 변수 포멧 (%d, %s, ...) 이용\n",
    "\n",
    "x = 3.141592653\n",
    "print(\"%.4f\" % x)"
   ]
  },
  {
   "cell_type": "code",
   "execution_count": null,
   "id": "bbfbd484-ecab-48da-ace8-ad6b6d487b75",
   "metadata": {
    "codle/previous_execution": {
     "code": "# 예제 4-2 : format 함수 이용\n\nx = 3.141592653\nprint(\"{0:.4f}\" .format(x))",
     "id": "5229483"
    }
   },
   "outputs": [],
   "source": [
    "# 예제 4-2 : format 함수 이용\n",
    "\n",
    "x = 3.141592653\n",
    "print(\"{0:.4f}\" .format(x))"
   ]
  },
  {
   "cell_type": "code",
   "execution_count": null,
   "id": "981432bd-f101-4d0d-82e6-2aa896a40d74",
   "metadata": {
    "codle/previous_execution": {
     "code": "# 예제 4-3 : f 문자열 포멧 이용\n\nx = 3.141592653\nprint(f\"{x:.4f}\")",
     "id": "5229485"
    }
   },
   "outputs": [],
   "source": [
    "# 예제 4-3 : f 문자열 포멧 이용\n",
    "\n",
    "x = 3.141592653\n",
    "print(f\"{x:.4f}\")"
   ]
  },
  {
   "cell_type": "markdown",
   "id": "126d5a02-19a0-4cbe-8cb0-0780ab36d6bb",
   "metadata": {
    "deletable": false,
    "editable": false
   },
   "source": [
    "## **변수 값 바꾸기**"
   ]
  },
  {
   "cell_type": "markdown",
   "id": "16e79ccb-79fc-48cd-b03e-cbce96327a5f",
   "metadata": {
    "deletable": false,
    "editable": false
   },
   "source": [
    "#### **예제 5 : 변수 값 변경 및 복사**\n",
    "\n",
    "- 변수에 새 값을 대입하면, 기존 값은 사라지고 새로 대입한 값만 남는다.\r",
    "- \n",
    "변수에 다른 변수를 대입하면, 기존에 있던 값은 사라지고 대입한 변수의 값이 복사된다."
   ]
  },
  {
   "cell_type": "code",
   "execution_count": null,
   "id": "9174c89a-e8d9-459a-9e89-d307b88f6913",
   "metadata": {
    "codle/previous_execution": {
     "code": "# 예제 5 : 변수 값 변경 및 복사\n\na, b = 1, 2\n\na = b\nprint(a)\n\na = 5\nprint(a)",
     "id": "5230069"
    }
   },
   "outputs": [],
   "source": [
    "# 예제 5 : 변수 값 변경 및 복사\n",
    "\n",
    "a, b = 1, 2\n",
    "\n",
    "a = b\n",
    "print(a)\n",
    "\n",
    "a = 5\n",
    "print(a)"
   ]
  },
  {
   "cell_type": "markdown",
   "id": "5ce6e5e8-06e5-47f0-a7fb-a9565bfd2ffc",
   "metadata": {
    "deletable": false,
    "editable": false
   },
   "source": [
    "#### **예제 6 : 두 변수 값 교환**\n",
    "\n",
    "- [방법 1] `temp` 이용\n"
   ]
  },
  {
   "cell_type": "code",
   "execution_count": null,
   "id": "dfaee87b-64af-42ef-b53f-0e535c5da4d8",
   "metadata": {
    "codle/previous_execution": {
     "code": "# 예제 6 : 두 변수 값 교환\n\na, b = 1, 2\n\ntemp = b\nb = a\na = temp\n\nprint(f\"a = {a}, b = {b}\")",
     "id": "5230105"
    }
   },
   "outputs": [],
   "source": [
    "# 예제 6-1 : 두 변수 값 교환, temp 이용\n",
    "\n",
    "a, b = 1, 2\n",
    "\n",
    "temp = b\n",
    "b = a\n",
    "a = temp\n",
    "\n",
    "print(f\"a = {a}, b = {b}\")"
   ]
  },
  {
   "cell_type": "markdown",
   "id": "32750d10-d1b3-4a8b-aa5b-8b08bec8fe7e",
   "metadata": {
    "deletable": false,
    "editable": false
   },
   "source": [
    "- [방법 2] `,` 이용하여 바로 교환"
   ]
  },
  {
   "cell_type": "code",
   "execution_count": null,
   "id": "d0c1f862-bca3-43ee-97a5-cd1786c63803",
   "metadata": {},
   "outputs": [],
   "source": [
    "# 예제 6-2 : 두 변수 값 교환\n",
    "\n",
    "a, b = 1, 2\n",
    "\n",
    "a, b = b, a\n",
    "\n",
    "print(f\"a = {a}, b = {b}\")"
   ]
  },
  {
   "cell_type": "markdown",
   "id": "1f359bb9-67a0-4703-9019-129a8468ecc1",
   "metadata": {
    "deletable": false,
    "editable": false
   },
   "source": [
    "(참고) 파이썬만 `temp` 없이 `a,b = b,a` 교환할 수 있는 이유는 python만 tuple 자료형이 존재하고, 그 tuple이 unpacking을 지원하기 때문이다."
   ]
  },
  {
   "cell_type": "markdown",
   "id": "6d224828-017a-41bb-b770-fd49e14d8226",
   "metadata": {
    "deletable": false,
    "editable": false
   },
   "source": [
    "#### **참고 : Unpacking**\n",
    "\n",
    "- 언패킹(Unpacking)이란 여러 개의 데이터가 패킹된 것을 풀어서 각각의 다른 변수에 저장하는 것이다.\n"
   ]
  },
  {
   "cell_type": "code",
   "execution_count": null,
   "id": "42a50286-f858-47e0-b31b-8b31ec8a5a50",
   "metadata": {
    "codle/previous_execution": {
     "code": "arr = [1, 2]\ntup = (1, 2)\n\na, b = arr\nprint(a, b)\na, b = tup\nprint(a, b)\n",
     "id": "5230308"
    }
   },
   "outputs": [],
   "source": [
    "# 예제 : unpacking\n",
    "\n",
    "arr = [1, 2]\n",
    "tup = (1, 2)\n",
    "\n",
    "a, b = arr\n",
    "print(a, b)\n",
    "\n",
    "a, b = tup\n",
    "print(a, b)"
   ]
  },
  {
   "cell_type": "markdown",
   "id": "86967a32-8241-4ff8-8f37-753c981a6197",
   "metadata": {
    "deletable": false,
    "editable": false
   },
   "source": [
    "- 다음과 같이 언패킹을 활용할 수 있다. "
   ]
  },
  {
   "cell_type": "code",
   "execution_count": null,
   "id": "d727870e-aed0-40d4-a448-276a605cc528",
   "metadata": {
    "codle/previous_execution": {
     "code": "# 예제 : 언패킹 활용\n\na, b = 3, (5, 6, 7, 4, 6)\n\na, (b1, b2, b3, b4, b5) = 3, (5, 6, 7, 4, 6)\nprint(b1, b2, b3, b4, b5)\n\nb1, b2, b3, b4, b5 = b\n\nprint(b1, b2, b3, b4, b5)",
     "id": "5230413"
    }
   },
   "outputs": [],
   "source": [
    "# 예제 : 언패킹 활용\n",
    "\n",
    "a, b = 3, (5, 6, 7, 4, 6)\n",
    "\n",
    "a, (b1, b2, b3, b4, b5) = 3, (5, 6, 7, 4, 6)\n",
    "b1, b2, b3, b4, b5 = b\n",
    "\n",
    "print(b1, b2, b3, b4, b5)"
   ]
  },
  {
   "cell_type": "markdown",
   "id": "7abecc5f-ee5e-4755-ae57-eabaada65919",
   "metadata": {
    "deletable": false,
    "editable": false
   },
   "source": [
    "#### **예제 7 : 변수값 동시에 복사**\n",
    "\n",
    "- `=`을 연쇄적으로 사용하면, 한 변수의 값을 여러 변수에 복사할 수 있다."
   ]
  },
  {
   "cell_type": "code",
   "execution_count": null,
   "id": "37820fdd-53a8-41e0-a6b6-12dfcb39fb50",
   "metadata": {
    "codle/previous_execution": {
     "code": "# 예제 7 : 변수값 동시에 복사\n\na, b, c = 1, 2, 3\n\na = b = c\n\nprint(f\"a = {a}, b = {b}, c = {c}\")",
     "id": "5230437"
    }
   },
   "outputs": [],
   "source": [
    "# 예제 7 : 변수값 동시에 복사\n",
    "\n",
    "a, b, c = 1, 2, 3\n",
    "\n",
    "a = b = c\n",
    "\n",
    "print(f\"a = {a}, b = {b}, c = {c}\")"
   ]
  }
 ],
 "metadata": {
  "kernelspec": {
   "display_name": "Python 3 (ipykernel)",
   "language": "python",
   "name": "python3"
  },
  "language_info": {
   "codemirror_mode": {
    "name": "ipython",
    "version": 3
   },
   "file_extension": ".py",
   "mimetype": "text/x-python",
   "name": "python",
   "nbconvert_exporter": "python",
   "pygments_lexer": "ipython3",
   "version": "3.10.13"
  },
  "read_only": true
 },
 "nbformat": 4,
 "nbformat_minor": 5
}
